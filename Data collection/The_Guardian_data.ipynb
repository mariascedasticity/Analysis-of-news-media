{
 "cells": [
  {
   "cell_type": "code",
   "execution_count": null,
   "metadata": {},
   "outputs": [],
   "source": [
    "import requests\n",
    "import json\n",
    "from pprint import pprint\n",
    "\n",
    "import pandas as pd\n",
    "import numpy as np\n",
    "import glob\n",
    "\n",
    "from tqdm.notebook import tqdm\n",
    "\n",
    "from os import makedirs\n",
    "from os.path import join, exists\n",
    "from datetime import date, timedelta"
   ]
  },
  {
   "cell_type": "code",
   "execution_count": null,
   "metadata": {},
   "outputs": [],
   "source": [
    "apikey= YOUR_KEY"
   ]
  },
  {
   "cell_type": "code",
   "execution_count": null,
   "metadata": {},
   "outputs": [],
   "source": [
    "articles_directory = join('guardian_data', 'articles')\n",
    "makedirs(articles_directory, exist_ok=True)\n",
    "\n",
    "api_key = your_api_key\n",
    "api_endpoint = 'http://content.guardianapis.com/search'\n",
    "parameters = {\n",
    "    'from-date': \"\",\n",
    "    'to-date': \"\",\n",
    "    'order-by': \"newest\",\n",
    "    'show-fields': 'all',\n",
    "    'page-size': 200,\n",
    "    'api-key': api_key,\n",
    "    'show-elements': 'image'\n",
    "}\n",
    "\n",
    "start_date = date(2006, 1, 1)\n",
    "end_date = date(2020,4, 1)\n",
    "dayrange = range((end_date - start_date).days + 1)\n",
    "\n",
    "for daycount in tqdm(dayrange):\n",
    "    dt = start_date + timedelta(days=daycount)\n",
    "    datestr = dt.strftime('%Y-%m-%d')\n",
    "    fname = join(articles_directory, datestr + '.json')\n",
    "\n",
    "    if not exists(fname):\n",
    "        print(\"Downloading\", datestr)\n",
    "        all_results = []\n",
    "        parameters['from-date'] = datestr\n",
    "        parameters['to-date'] = datestr\n",
    "        current_page = 1\n",
    "        total_pages = 200\n",
    "        \n",
    "        while current_page <= total_pages:\n",
    "            print(\"...page\", current_page)\n",
    "            parameters['page'] = current_page\n",
    "            req = requests.get(api_endpoint, parameters)\n",
    "            df = req.json()\n",
    "            all_results.extend(df['response']['results'])\n",
    "            current_page += 1\n",
    "            total_pages = df['response']['pages']\n",
    "\n",
    "        with open(fname, 'w') as f:\n",
    "            print(\"Writing to\", fname)\n",
    "\n",
    "            f.write(json.dumps(all_results, indent=2))"
   ]
  },
  {
   "cell_type": "code",
   "execution_count": null,
   "metadata": {},
   "outputs": [],
   "source": [
    "path_to_json = '/Users/mariia/Docs no synch/nonverb/Python/tempdata/articles/' \n",
    "temp = pd.DataFrame()\n",
    "\n",
    "json_pattern = os.path.join(path_to_json,'*.json')\n",
    "file_list = glob.glob(json_pattern)\n",
    "\n",
    "dfs = [] \n",
    "for file in file_list:\n",
    "    data = pd.read_json(file) \n",
    "    dfs.append(data) \n",
    "\n",
    "temp = pd.concat(dfs, ignore_index=True)"
   ]
  },
  {
   "cell_type": "code",
   "execution_count": null,
   "metadata": {},
   "outputs": [],
   "source": [
    "def process_json(df):\n",
    "    d = df['fields'].apply(pd.Series)\n",
    "    df_out = pd.concat([df, d], axis=1)\n",
    "    df_out=df_out[['id', 'sectionName', 'webPublicationDate', 'webTitle',\\\n",
    "                   'shortUrl', 'pillarName', 'headline', 'standfirst', 'body', \\\n",
    "                   'wordcount', 'bodyText', 'main', 'thumbnail']]\n",
    "    df_out['main'] = df_out.main.str.extract(r'src\\s*=\\s*\\\"(.+?)\\\"')\n",
    "    df_out.rename(columns={\"webPublicationDate\": \"date\", \"standfirst\": \"snippet\", \\\n",
    "                           \"shortUrl\": \"n_url\", \"wordcount\": \"word_count\", \"sectionName\": \"section\", \\\n",
    "                           \"bodyText\": \"article_text\", \"thumbnail\": \"image\", \"main\": \"images\"}, inplace = True)\n",
    "    df_out['date']=pd.to_datetime(df_out['date']).dt.strftime('%Y-%m-%d')\n",
    "    return df_out"
   ]
  },
  {
   "cell_type": "code",
   "execution_count": null,
   "metadata": {},
   "outputs": [],
   "source": [
    "df = process_json(temp)\n",
    "df"
   ]
  }
 ],
 "metadata": {
  "kernelspec": {
   "display_name": "Python 3",
   "language": "python",
   "name": "python3"
  },
  "language_info": {
   "codemirror_mode": {
    "name": "ipython",
    "version": 3
   },
   "file_extension": ".py",
   "mimetype": "text/x-python",
   "name": "python",
   "nbconvert_exporter": "python",
   "pygments_lexer": "ipython3",
   "version": "3.7.6"
  }
 },
 "nbformat": 4,
 "nbformat_minor": 4
}
